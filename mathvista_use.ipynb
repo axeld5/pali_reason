{
 "cells": [
  {
   "cell_type": "code",
   "execution_count": 2,
   "metadata": {},
   "outputs": [
    {
     "name": "stderr",
     "output_type": "stream",
     "text": [
      "/Library/Frameworks/Python.framework/Versions/3.13/lib/python3.13/site-packages/tqdm/auto.py:21: TqdmWarning: IProgress not found. Please update jupyter and ipywidgets. See https://ipywidgets.readthedocs.io/en/stable/user_install.html\n",
      "  from .autonotebook import tqdm as notebook_tqdm\n"
     ]
    }
   ],
   "source": [
    "from datasets import load_dataset"
   ]
  },
  {
   "cell_type": "code",
   "execution_count": 3,
   "metadata": {},
   "outputs": [],
   "source": [
    "dataset = load_dataset(\"AI4Math/MathVista\")"
   ]
  },
  {
   "cell_type": "code",
   "execution_count": 4,
   "metadata": {},
   "outputs": [],
   "source": [
    "from dotenv import load_dotenv"
   ]
  },
  {
   "cell_type": "code",
   "execution_count": 5,
   "metadata": {},
   "outputs": [
    {
     "data": {
      "text/plain": [
       "True"
      ]
     },
     "execution_count": 5,
     "metadata": {},
     "output_type": "execute_result"
    }
   ],
   "source": [
    "load_dotenv()"
   ]
  },
  {
   "cell_type": "code",
   "execution_count": 20,
   "metadata": {},
   "outputs": [
    {
     "name": "stdout",
     "output_type": "stream",
     "text": [
      "When a spring does work on an object, we cannot find the work by simply multiplying the spring force by the object's displacement. The reason is that there is no one value for the force-it changes. However, we can split the displacement up into an infinite number of tiny parts and then approximate the force in each as being constant. Integration sums the work done in all those parts. Here we use the generic result of the integration.\n",
      "\n",
      "In Figure, a cumin canister of mass $m=0.40 \\mathrm{~kg}$ slides across a horizontal frictionless counter with speed $v=0.50 \\mathrm{~m} / \\mathrm{s}$. It then runs into and compresses a spring of spring constant $k=750 \\mathrm{~N} / \\mathrm{m}$. When the canister is momentarily stopped by the spring, by what distance $d$ is the spring compressed?\n"
     ]
    }
   ],
   "source": [
    "print(dataset[\"testmini\"][0][\"question\"])"
   ]
  },
  {
   "cell_type": "code",
   "execution_count": 19,
   "metadata": {},
   "outputs": [
    {
     "name": "stdout",
     "output_type": "stream",
     "text": [
      "<PIL.PngImagePlugin.PngImageFile image mode=RGBA size=1514x720 at 0x123C22780>\n"
     ]
    }
   ],
   "source": [
    "print()"
   ]
  },
  {
   "cell_type": "code",
   "execution_count": 14,
   "metadata": {},
   "outputs": [
    {
     "name": "stdout",
     "output_type": "stream",
     "text": [
      "testmini\n"
     ]
    }
   ],
   "source": [
    "for i,elem in enumerate(dataset):\n",
    "    if i == 0:\n",
    "        print(elem)"
   ]
  },
  {
   "cell_type": "code",
   "execution_count": 56,
   "metadata": {},
   "outputs": [],
   "source": [
    "from google import genai\n",
    "from google.genai import types\n",
    "\n",
    "client = genai.Client()\n",
    "\n",
    "response = client.models.generate_content(\n",
    "    model='gemini-2.0-flash-thinking-exp', contents=[\n",
    "        dataset[\"testmini\"][104][\"decoded_image\"],\n",
    "        dataset[\"testmini\"][104][\"query\"]\n",
    "    ]\n",
    ")"
   ]
  },
  {
   "cell_type": "code",
   "execution_count": 57,
   "metadata": {},
   "outputs": [
    {
     "name": "stdout",
     "output_type": "stream",
     "text": [
      "Hint: Please answer the question and provide the correct option letter, e.g., A, B, C, D, at the end.\n",
      "Question: Does Dark Violet have the minimum area under the curve?\n",
      "Choices:\n",
      "(A) yes\n",
      "(B) no\n"
     ]
    }
   ],
   "source": [
    "print(dataset[\"testmini\"][104][\"query\"])"
   ]
  },
  {
   "cell_type": "code",
   "execution_count": 58,
   "metadata": {},
   "outputs": [
    {
     "name": "stdout",
     "output_type": "stream",
     "text": [
      "The user is asking whether the \"Dark Violet\" line in the graph has the minimum area under the curve.\n",
      "To answer this, I need to visually inspect the graph and determine which line consistently has the lowest y-values across the x-axis. The area under the curve is related to the sum of the y-values for each x-value.\n",
      "\n",
      "From the graph, it's clear that the \"Dark Violet\" points are consistently at the lowest y-values compared to the other colors.\n"
     ]
    }
   ],
   "source": [
    "print(response.candidates[0].content.parts[0].text)"
   ]
  },
  {
   "cell_type": "code",
   "execution_count": 59,
   "metadata": {},
   "outputs": [
    {
     "name": "stdout",
     "output_type": "stream",
     "text": [
      "Answer: (A)\n"
     ]
    }
   ],
   "source": [
    "print(response.candidates[0].content.parts[1].text)"
   ]
  },
  {
   "cell_type": "code",
   "execution_count": 60,
   "metadata": {},
   "outputs": [
    {
     "name": "stdout",
     "output_type": "stream",
     "text": [
      "yes\n"
     ]
    }
   ],
   "source": [
    "print(dataset[\"testmini\"][104][\"answer\"])"
   ]
  },
  {
   "cell_type": "code",
   "execution_count": 8,
   "metadata": {},
   "outputs": [],
   "source": [
    "import time\n",
    "import pandas as pd\n",
    "from google import genai\n",
    "\n",
    "questions = []\n",
    "thoughts = []\n",
    "generated_answers = []\n",
    "true_answers = []\n",
    "indexes = []"
   ]
  },
  {
   "cell_type": "code",
   "execution_count": 9,
   "metadata": {},
   "outputs": [
    {
     "name": "stdout",
     "output_type": "stream",
     "text": [
      "step 0\n",
      "step 1\n",
      "step 2\n",
      "step 3\n",
      "step 4\n",
      "step 5\n",
      "step 6\n",
      "step 7\n",
      "step 8\n",
      "Query issue\n",
      "step 9\n",
      "step 10\n",
      "step 11\n",
      "step 12\n",
      "step 13\n",
      "step 14\n",
      "step 15\n",
      "step 16\n",
      "Query issue\n",
      "step 17\n",
      "step 18\n",
      "step 19\n",
      "step 20\n",
      "step 21\n",
      "step 22\n",
      "step 23\n",
      "step 24\n",
      "step 25\n",
      "step 26\n",
      "step 27\n",
      "step 28\n",
      "step 29\n",
      "step 30\n",
      "step 31\n",
      "step 32\n",
      "step 33\n",
      "step 34\n",
      "step 35\n",
      "step 36\n",
      "step 37\n",
      "step 38\n",
      "step 39\n",
      "step 40\n",
      "step 41\n",
      "step 42\n",
      "step 43\n",
      "step 44\n",
      "step 45\n",
      "step 46\n",
      "step 47\n",
      "step 48\n",
      "step 49\n",
      "step 50\n",
      "step 51\n",
      "step 52\n",
      "step 53\n",
      "step 54\n",
      "step 55\n",
      "step 56\n",
      "step 57\n",
      "step 58\n",
      "step 59\n",
      "step 60\n",
      "step 61\n",
      "step 62\n",
      "step 63\n",
      "step 64\n",
      "step 65\n",
      "step 66\n",
      "step 67\n",
      "step 68\n",
      "step 69\n",
      "step 70\n",
      "step 71\n",
      "step 72\n",
      "step 73\n",
      "step 74\n",
      "step 75\n",
      "step 76\n",
      "step 77\n",
      "step 78\n",
      "step 79\n",
      "step 80\n",
      "step 81\n",
      "Query issue\n",
      "step 82\n",
      "step 83\n",
      "step 84\n",
      "step 85\n",
      "step 86\n",
      "step 87\n",
      "step 88\n",
      "step 89\n",
      "step 90\n",
      "step 91\n",
      "step 92\n",
      "step 93\n",
      "step 94\n",
      "step 95\n",
      "step 96\n",
      "step 97\n",
      "step 98\n",
      "step 99\n",
      "step 100\n",
      "step 101\n",
      "step 102\n",
      "step 103\n",
      "step 104\n",
      "step 105\n",
      "step 106\n",
      "step 107\n",
      "step 108\n",
      "step 109\n",
      "step 110\n",
      "step 111\n",
      "step 112\n",
      "step 113\n",
      "step 114\n",
      "step 115\n",
      "step 116\n",
      "step 117\n",
      "Flash issue\n",
      "step 118\n",
      "step 119\n",
      "step 120\n",
      "step 121\n",
      "step 122\n",
      "step 123\n",
      "step 124\n",
      "step 125\n",
      "step 126\n",
      "step 127\n",
      "step 128\n",
      "step 129\n",
      "step 130\n",
      "step 131\n",
      "step 132\n",
      "step 133\n",
      "step 134\n",
      "step 135\n",
      "step 136\n",
      "step 137\n",
      "step 138\n",
      "step 139\n",
      "step 140\n",
      "step 141\n",
      "step 142\n",
      "step 143\n",
      "step 144\n",
      "step 145\n",
      "step 146\n",
      "step 147\n",
      "step 148\n",
      "Query issue\n",
      "step 149\n",
      "step 150\n",
      "step 151\n",
      "step 152\n",
      "step 153\n",
      "step 154\n",
      "step 155\n",
      "step 156\n",
      "step 157\n",
      "step 158\n",
      "step 159\n",
      "step 160\n",
      "step 161\n",
      "step 162\n",
      "step 163\n",
      "step 164\n",
      "step 165\n",
      "step 166\n",
      "step 167\n",
      "step 168\n",
      "step 169\n",
      "Flash issue\n",
      "step 170\n",
      "step 171\n",
      "step 172\n",
      "step 173\n",
      "Flash issue\n",
      "step 174\n",
      "Flash issue\n",
      "step 175\n",
      "Flash issue\n",
      "step 176\n",
      "step 177\n",
      "step 178\n",
      "step 179\n",
      "step 180\n",
      "step 181\n",
      "step 182\n",
      "step 183\n",
      "step 184\n",
      "step 185\n",
      "step 186\n",
      "step 187\n",
      "step 188\n",
      "step 189\n",
      "step 190\n",
      "step 191\n",
      "step 192\n",
      "step 193\n",
      "step 194\n",
      "step 195\n",
      "step 196\n",
      "step 197\n",
      "step 198\n",
      "step 199\n",
      "step 200\n",
      "step 201\n",
      "step 202\n",
      "step 203\n",
      "step 204\n",
      "step 205\n",
      "step 206\n",
      "step 207\n",
      "step 208\n",
      "step 209\n",
      "step 210\n",
      "step 211\n",
      "step 212\n",
      "step 213\n",
      "step 214\n",
      "step 215\n",
      "step 216\n",
      "step 217\n",
      "step 218\n",
      "step 219\n",
      "Query issue\n",
      "step 220\n",
      "Query issue\n",
      "step 221\n",
      "step 222\n",
      "step 223\n",
      "step 224\n",
      "step 225\n",
      "step 226\n",
      "step 227\n",
      "step 228\n",
      "step 229\n",
      "step 230\n",
      "step 231\n",
      "step 232\n",
      "step 233\n",
      "step 234\n",
      "step 235\n",
      "step 236\n",
      "step 237\n",
      "step 238\n",
      "step 239\n",
      "step 240\n",
      "step 241\n",
      "step 242\n",
      "step 243\n",
      "step 244\n",
      "step 245\n",
      "step 246\n",
      "step 247\n",
      "step 248\n",
      "step 249\n",
      "step 250\n",
      "step 251\n",
      "step 252\n",
      "step 253\n",
      "step 254\n",
      "step 255\n",
      "step 256\n",
      "step 257\n",
      "step 258\n",
      "step 259\n",
      "step 260\n",
      "step 261\n",
      "step 262\n",
      "step 263\n",
      "step 264\n",
      "step 265\n",
      "step 266\n",
      "step 267\n",
      "step 268\n",
      "step 269\n",
      "Query issue\n",
      "step 270\n",
      "step 271\n",
      "step 272\n",
      "step 273\n",
      "step 274\n",
      "step 275\n",
      "step 276\n",
      "step 277\n",
      "step 278\n",
      "step 279\n",
      "step 280\n",
      "step 281\n",
      "step 282\n",
      "step 283\n",
      "step 284\n",
      "Query issue\n",
      "step 285\n",
      "step 286\n",
      "step 287\n",
      "step 288\n",
      "step 289\n",
      "step 290\n",
      "step 291\n",
      "step 292\n",
      "step 293\n",
      "step 294\n",
      "step 295\n",
      "step 296\n",
      "step 297\n",
      "Query issue\n",
      "step 298\n",
      "step 299\n",
      "step 300\n",
      "step 301\n",
      "step 302\n",
      "step 303\n",
      "step 304\n",
      "step 305\n",
      "step 306\n",
      "step 307\n",
      "step 308\n",
      "step 309\n",
      "step 310\n",
      "step 311\n",
      "step 312\n",
      "step 313\n",
      "step 314\n",
      "step 315\n",
      "Query issue\n",
      "step 316\n",
      "step 317\n",
      "step 318\n",
      "step 319\n",
      "step 320\n",
      "step 321\n",
      "step 322\n",
      "step 323\n",
      "step 324\n",
      "step 325\n",
      "step 326\n",
      "step 327\n",
      "step 328\n",
      "step 329\n",
      "step 330\n",
      "step 331\n",
      "step 332\n",
      "step 333\n",
      "step 334\n",
      "step 335\n",
      "step 336\n",
      "step 337\n",
      "step 338\n",
      "step 339\n",
      "step 340\n",
      "step 341\n",
      "step 342\n",
      "step 343\n",
      "step 344\n",
      "step 345\n",
      "step 346\n",
      "step 347\n",
      "step 348\n",
      "step 349\n"
     ]
    }
   ],
   "source": [
    "client = genai.Client()\n",
    "\n",
    "for i in range(350):\n",
    "    print(f\"step {i}\")\n",
    "    try:\n",
    "        response = client.models.generate_content(\n",
    "            model='gemini-2.0-flash-thinking-exp', contents=[\n",
    "                dataset[\"testmini\"][i][\"decoded_image\"],\n",
    "                dataset[\"testmini\"][i][\"query\"]\n",
    "            ]\n",
    "        )\n",
    "        indexes.append(i)\n",
    "        questions.append(dataset[\"testmini\"][i][\"query\"])\n",
    "        true_answers.append(dataset[\"testmini\"][i][\"answer\"])\n",
    "        try:\n",
    "            thoughts.append(response.candidates[0].content.parts[0].text)\n",
    "            generated_answers.append(response.candidates[0].content.parts[1].text)\n",
    "        except:\n",
    "            print(\"Query issue\")\n",
    "            thoughts.append(\"\")\n",
    "            generated_answers.append(\"\")\n",
    "        time.sleep(2)\n",
    "    except:\n",
    "        print(\"Flash issue\")\n",
    "df_dict = {\"questions\": questions,\n",
    "           \"thoughts\": thoughts,\n",
    "           \"generated_answers\": generated_answers,\n",
    "           \"true_answers\": true_answers,\n",
    "           \"indexes\": indexes}\n",
    "df = pd.DataFrame.from_dict(df_dict)\n",
    "df.to_csv(\"training_v2.csv\", index=False)"
   ]
  },
  {
   "cell_type": "code",
   "execution_count": 74,
   "metadata": {},
   "outputs": [
    {
     "name": "stdout",
     "output_type": "stream",
     "text": [
      "344\n"
     ]
    }
   ],
   "source": [
    "print(len(questions))"
   ]
  },
  {
   "cell_type": "code",
   "execution_count": 75,
   "metadata": {},
   "outputs": [
    {
     "name": "stdout",
     "output_type": "stream",
     "text": [
      "[0, 1, 2, 3, 4, 5, 6, 7, 8, 9, 10, 11, 12, 13, 14, 15, 16, 17, 18, 19, 20, 21, 22, 23, 24, 25, 26, 27, 28, 29, 30, 31, 32, 33, 34, 35, 36, 37, 38, 39, 40, 41, 42, 43, 44, 45, 46, 47, 48, 49, 50, 51, 52, 53, 54, 55, 56, 57, 58, 59, 60, 61, 62, 63, 64, 65, 66, 67, 68, 69, 70, 71, 72, 73, 74, 75, 76, 77, 78, 79, 80, 81, 82, 83, 84, 85, 86, 87, 88, 89, 90, 91, 92, 93, 94, 95, 96, 97, 98, 99, 100, 101, 102, 103, 104, 105, 106, 107, 108, 109, 110, 111, 112, 113, 114, 115, 116, 118, 119, 120, 121, 122, 123, 124, 125, 126, 127, 128, 129, 130, 131, 132, 133, 134, 135, 136, 137, 138, 139, 140, 141, 142, 143, 144, 145, 146, 147, 148, 149, 150, 151, 152, 153, 154, 155, 156, 157, 158, 159, 160, 161, 162, 163, 164, 165, 166, 167, 168, 170, 171, 172, 173, 174, 175, 176, 177, 178, 179, 180, 181, 182, 183, 184, 185, 186, 187, 188, 189, 190, 191, 192, 193, 194, 195, 196, 197, 198, 199, 200, 201, 202, 203, 204, 205, 206, 207, 208, 209, 210, 211, 212, 213, 214, 215, 216, 217, 218, 222, 223, 224, 225, 226, 227, 228, 229, 230, 231, 232, 233, 234, 235, 236, 237, 238, 239, 240, 241, 242, 243, 244, 245, 246, 247, 248, 249, 250, 251, 252, 253, 254, 255, 256, 257, 258, 259, 260, 261, 262, 263, 264, 265, 266, 267, 268, 269, 270, 271, 272, 273, 274, 275, 276, 277, 278, 279, 280, 281, 282, 283, 284, 285, 286, 287, 288, 289, 290, 291, 292, 293, 294, 295, 296, 297, 298, 299, 300, 301, 302, 303, 304, 305, 306, 307, 308, 309, 310, 311, 312, 313, 314, 315, 316, 318, 319, 320, 321, 322, 323, 324, 325, 326, 327, 328, 329, 330, 331, 332, 333, 334, 335, 336, 337, 338, 339, 340, 341, 342, 343, 344, 345, 346, 347, 348, 349, 365, 366, 383, 397, 404, 416, 421, 426, 427, 432, 437, 441, 452, 456, 467, 471, 472, 473, 474, 476, 480, 483, 493, 499, 517, 521, 577, 589, 590, 605, 613, 617, 619, 630, 635, 651, 657, 660, 661, 662, 671, 679, 682, 698, 700, 709, 710, 714, 727, 728, 740, 741, 744, 752, 754, 758, 787, 791, 794, 795, 813, 826, 829, 837, 844, 858, 863, 870, 903, 911, 935, 942, 944, 945, 959, 963, 965, 978, 987]\n"
     ]
    }
   ],
   "source": [
    "indexes = []\n",
    "for i, question in enumerate(dataset[\"testmini\"]):\n",
    "    if question[\"query\"] in questions:\n",
    "        indexes.append(i)\n",
    "\n",
    "print(indexes)"
   ]
  },
  {
   "cell_type": "code",
   "execution_count": 76,
   "metadata": {},
   "outputs": [
    {
     "name": "stdout",
     "output_type": "stream",
     "text": [
      "423\n"
     ]
    }
   ],
   "source": [
    "print(len(indexes))"
   ]
  },
  {
   "cell_type": "code",
   "execution_count": null,
   "metadata": {},
   "outputs": [],
   "source": []
  }
 ],
 "metadata": {
  "kernelspec": {
   "display_name": "Python 3",
   "language": "python",
   "name": "python3"
  },
  "language_info": {
   "codemirror_mode": {
    "name": "ipython",
    "version": 3
   },
   "file_extension": ".py",
   "mimetype": "text/x-python",
   "name": "python",
   "nbconvert_exporter": "python",
   "pygments_lexer": "ipython3",
   "version": "3.13.1"
  }
 },
 "nbformat": 4,
 "nbformat_minor": 2
}
