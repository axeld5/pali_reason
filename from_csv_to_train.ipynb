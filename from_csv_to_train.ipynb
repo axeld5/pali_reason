{
 "cells": [
  {
   "cell_type": "code",
   "execution_count": 2,
   "metadata": {},
   "outputs": [
    {
     "name": "stderr",
     "output_type": "stream",
     "text": [
      "c:\\Users\\axeld\\AppData\\Local\\Programs\\Python\\Python312\\Lib\\site-packages\\tqdm\\auto.py:21: TqdmWarning: IProgress not found. Please update jupyter and ipywidgets. See https://ipywidgets.readthedocs.io/en/stable/user_install.html\n",
      "  from .autonotebook import tqdm as notebook_tqdm\n"
     ]
    }
   ],
   "source": [
    "import pandas as pd\n",
    "from datasets import load_dataset"
   ]
  },
  {
   "cell_type": "markdown",
   "metadata": {},
   "source": [
    "## Building training dict from filtered csv"
   ]
  },
  {
   "cell_type": "code",
   "execution_count": 3,
   "metadata": {},
   "outputs": [],
   "source": [
    "df = pd.read_csv(\"training_data/training_v2_correct.csv\")\n",
    "dataset = load_dataset(\"AI4Math/MathVista\")\n",
    "df.head()"
   ]
  },
  {
   "cell_type": "code",
   "execution_count": 6,
   "metadata": {},
   "outputs": [],
   "source": [
    "prefixes = df[\"questions\"].tolist()\n",
    "suffixes = (\"Thoughts:\\n\" +df[\"thoughts\"] + \"\\nAnswer:\\n\" + df[\"generated_answers\"]).tolist()\n",
    "image_paths = []\n",
    "for i in df.indexes.tolist():\n",
    "    image = dataset[\"testmini\"][i]['decoded_image']\n",
    "    image.save(f\"mathvista_images/{i}.png\")\n",
    "    image_paths.append(f\"mathvista_images/{i}.png\")"
   ]
  },
  {
   "cell_type": "code",
   "execution_count": 18,
   "metadata": {},
   "outputs": [],
   "source": [
    "import json\n",
    "\n",
    "training_dict = {\"prefixes\": prefixes[:32], \"suffixes\": suffixes[:32], \"images\": image_paths[:32]}\n",
    "json.dump(training_dict, open(\"training_data/truncated_training_dict.json\", \"w\"))"
   ]
  },
  {
   "cell_type": "code",
   "execution_count": null,
   "metadata": {},
   "outputs": [],
   "source": []
  }
 ],
 "metadata": {
  "kernelspec": {
   "display_name": "Python 3",
   "language": "python",
   "name": "python3"
  },
  "language_info": {
   "codemirror_mode": {
    "name": "ipython",
    "version": 3
   },
   "file_extension": ".py",
   "mimetype": "text/x-python",
   "name": "python",
   "nbconvert_exporter": "python",
   "pygments_lexer": "ipython3",
   "version": "3.12.4"
  }
 },
 "nbformat": 4,
 "nbformat_minor": 2
}
