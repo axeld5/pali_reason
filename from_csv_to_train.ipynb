{
 "cells": [
  {
   "cell_type": "code",
   "execution_count": 7,
   "metadata": {},
   "outputs": [],
   "source": [
    "import pandas as pd\n",
    "from datasets import load_dataset"
   ]
  },
  {
   "cell_type": "code",
   "execution_count": 8,
   "metadata": {},
   "outputs": [],
   "source": [
    "df = pd.read_csv(\"training_v2_correct.csv\")"
   ]
  },
  {
   "cell_type": "code",
   "execution_count": 9,
   "metadata": {},
   "outputs": [],
   "source": [
    "dataset = load_dataset(\"AI4Math/MathVista\")"
   ]
  },
  {
   "cell_type": "code",
   "execution_count": 10,
   "metadata": {},
   "outputs": [
    {
     "data": {
      "text/html": [
       "<div>\n",
       "<style scoped>\n",
       "    .dataframe tbody tr th:only-of-type {\n",
       "        vertical-align: middle;\n",
       "    }\n",
       "\n",
       "    .dataframe tbody tr th {\n",
       "        vertical-align: top;\n",
       "    }\n",
       "\n",
       "    .dataframe thead th {\n",
       "        text-align: right;\n",
       "    }\n",
       "</style>\n",
       "<table border=\"1\" class=\"dataframe\">\n",
       "  <thead>\n",
       "    <tr style=\"text-align: right;\">\n",
       "      <th></th>\n",
       "      <th>questions</th>\n",
       "      <th>thoughts</th>\n",
       "      <th>generated_answers</th>\n",
       "      <th>true_answers</th>\n",
       "      <th>indexes</th>\n",
       "      <th>validity</th>\n",
       "    </tr>\n",
       "  </thead>\n",
       "  <tbody>\n",
       "    <tr>\n",
       "      <th>0</th>\n",
       "      <td>Hint: Please answer the question requiring an ...</td>\n",
       "      <td>The user is asking for the total volume of the...</td>\n",
       "      <td>1000</td>\n",
       "      <td>1000</td>\n",
       "      <td>1</td>\n",
       "      <td>yes</td>\n",
       "    </tr>\n",
       "    <tr>\n",
       "      <th>1</th>\n",
       "      <td>Hint: Please answer the question and provide t...</td>\n",
       "      <td>\\nThe question asks for the measure of angle B...</td>\n",
       "      <td>Let △ABC be a triangle. OB and OC are the angl...</td>\n",
       "      <td>145°</td>\n",
       "      <td>2</td>\n",
       "      <td>yes</td>\n",
       "    </tr>\n",
       "    <tr>\n",
       "      <th>2</th>\n",
       "      <td>Hint: Please answer the question requiring an ...</td>\n",
       "      <td>The user wants to count the remaining objects ...</td>\n",
       "      <td>There are 4 objects left.\\n</td>\n",
       "      <td>4</td>\n",
       "      <td>3</td>\n",
       "      <td>yes</td>\n",
       "    </tr>\n",
       "    <tr>\n",
       "      <th>3</th>\n",
       "      <td>Hint: Please answer the question and provide t...</td>\n",
       "      <td>\\nThe problem asks for the measure of angle H ...</td>\n",
       "      <td>Solution:\\nThe sum of the interior angles of a...</td>\n",
       "      <td>97</td>\n",
       "      <td>4</td>\n",
       "      <td>yes</td>\n",
       "    </tr>\n",
       "    <tr>\n",
       "      <th>4</th>\n",
       "      <td>Hint: Please answer the question and provide t...</td>\n",
       "      <td>Let's break this down. The user wants to solve...</td>\n",
       "      <td>Here's how to solve the problem:\\n\\n1. **Find ...</td>\n",
       "      <td>6cm</td>\n",
       "      <td>5</td>\n",
       "      <td>yes</td>\n",
       "    </tr>\n",
       "  </tbody>\n",
       "</table>\n",
       "</div>"
      ],
      "text/plain": [
       "                                           questions  \\\n",
       "0  Hint: Please answer the question requiring an ...   \n",
       "1  Hint: Please answer the question and provide t...   \n",
       "2  Hint: Please answer the question requiring an ...   \n",
       "3  Hint: Please answer the question and provide t...   \n",
       "4  Hint: Please answer the question and provide t...   \n",
       "\n",
       "                                            thoughts  \\\n",
       "0  The user is asking for the total volume of the...   \n",
       "1  \\nThe question asks for the measure of angle B...   \n",
       "2  The user wants to count the remaining objects ...   \n",
       "3  \\nThe problem asks for the measure of angle H ...   \n",
       "4  Let's break this down. The user wants to solve...   \n",
       "\n",
       "                                   generated_answers true_answers  indexes  \\\n",
       "0                                               1000         1000        1   \n",
       "1  Let △ABC be a triangle. OB and OC are the angl...         145°        2   \n",
       "2                        There are 4 objects left.\\n            4        3   \n",
       "3  Solution:\\nThe sum of the interior angles of a...           97        4   \n",
       "4  Here's how to solve the problem:\\n\\n1. **Find ...          6cm        5   \n",
       "\n",
       "  validity  \n",
       "0      yes  \n",
       "1      yes  \n",
       "2      yes  \n",
       "3      yes  \n",
       "4      yes  "
      ]
     },
     "execution_count": 10,
     "metadata": {},
     "output_type": "execute_result"
    }
   ],
   "source": [
    "df.head()"
   ]
  },
  {
   "cell_type": "code",
   "execution_count": 17,
   "metadata": {},
   "outputs": [],
   "source": [
    "prefixes = df[\"questions\"].tolist()\n",
    "suffixes = (\"Thoughts:\\n\" +df[\"thoughts\"] + \"\\nAnswer:\\n\" + df[\"generated_answers\"]).tolist()\n",
    "image_paths = []\n",
    "for i in df.indexes.tolist():\n",
    "    image = dataset[\"testmini\"][i]['decoded_image']\n",
    "    image.save(f\"mathvista_images/{i}.png\")\n",
    "    image_paths.append(f\"mathvista_images/{i}.png\")"
   ]
  },
  {
   "cell_type": "code",
   "execution_count": 18,
   "metadata": {},
   "outputs": [
    {
     "name": "stdout",
     "output_type": "stream",
     "text": [
      "['mathvista_images/1.png', 'mathvista_images/2.png', 'mathvista_images/3.png', 'mathvista_images/4.png', 'mathvista_images/5.png', 'mathvista_images/10.png', 'mathvista_images/11.png', 'mathvista_images/12.png', 'mathvista_images/13.png', 'mathvista_images/14.png', 'mathvista_images/15.png', 'mathvista_images/17.png', 'mathvista_images/18.png', 'mathvista_images/19.png', 'mathvista_images/20.png', 'mathvista_images/21.png', 'mathvista_images/22.png', 'mathvista_images/23.png', 'mathvista_images/25.png', 'mathvista_images/26.png', 'mathvista_images/27.png', 'mathvista_images/28.png', 'mathvista_images/29.png', 'mathvista_images/30.png', 'mathvista_images/31.png', 'mathvista_images/32.png', 'mathvista_images/33.png', 'mathvista_images/34.png', 'mathvista_images/35.png', 'mathvista_images/37.png', 'mathvista_images/38.png', 'mathvista_images/40.png', 'mathvista_images/42.png', 'mathvista_images/43.png', 'mathvista_images/44.png', 'mathvista_images/45.png', 'mathvista_images/47.png', 'mathvista_images/50.png', 'mathvista_images/51.png', 'mathvista_images/53.png', 'mathvista_images/54.png', 'mathvista_images/55.png', 'mathvista_images/56.png', 'mathvista_images/57.png', 'mathvista_images/58.png', 'mathvista_images/60.png', 'mathvista_images/61.png', 'mathvista_images/63.png', 'mathvista_images/64.png', 'mathvista_images/66.png', 'mathvista_images/67.png', 'mathvista_images/70.png', 'mathvista_images/71.png', 'mathvista_images/72.png', 'mathvista_images/73.png', 'mathvista_images/74.png', 'mathvista_images/75.png', 'mathvista_images/76.png', 'mathvista_images/78.png', 'mathvista_images/79.png', 'mathvista_images/82.png', 'mathvista_images/85.png', 'mathvista_images/86.png', 'mathvista_images/90.png', 'mathvista_images/91.png', 'mathvista_images/92.png', 'mathvista_images/93.png', 'mathvista_images/94.png', 'mathvista_images/95.png', 'mathvista_images/96.png', 'mathvista_images/97.png', 'mathvista_images/99.png', 'mathvista_images/100.png', 'mathvista_images/101.png', 'mathvista_images/104.png', 'mathvista_images/105.png', 'mathvista_images/106.png', 'mathvista_images/108.png', 'mathvista_images/109.png', 'mathvista_images/111.png', 'mathvista_images/113.png', 'mathvista_images/115.png', 'mathvista_images/116.png', 'mathvista_images/118.png', 'mathvista_images/119.png', 'mathvista_images/120.png', 'mathvista_images/121.png', 'mathvista_images/122.png', 'mathvista_images/123.png', 'mathvista_images/124.png', 'mathvista_images/125.png', 'mathvista_images/126.png', 'mathvista_images/128.png', 'mathvista_images/129.png', 'mathvista_images/130.png', 'mathvista_images/132.png', 'mathvista_images/133.png', 'mathvista_images/135.png', 'mathvista_images/136.png', 'mathvista_images/138.png', 'mathvista_images/139.png', 'mathvista_images/140.png', 'mathvista_images/141.png', 'mathvista_images/142.png', 'mathvista_images/143.png', 'mathvista_images/144.png', 'mathvista_images/145.png', 'mathvista_images/146.png', 'mathvista_images/147.png', 'mathvista_images/149.png', 'mathvista_images/151.png', 'mathvista_images/152.png', 'mathvista_images/153.png', 'mathvista_images/154.png', 'mathvista_images/155.png', 'mathvista_images/158.png', 'mathvista_images/159.png', 'mathvista_images/161.png', 'mathvista_images/163.png', 'mathvista_images/166.png', 'mathvista_images/167.png', 'mathvista_images/168.png', 'mathvista_images/170.png', 'mathvista_images/171.png', 'mathvista_images/172.png', 'mathvista_images/176.png', 'mathvista_images/178.png', 'mathvista_images/182.png', 'mathvista_images/183.png', 'mathvista_images/185.png', 'mathvista_images/186.png', 'mathvista_images/187.png', 'mathvista_images/190.png', 'mathvista_images/192.png', 'mathvista_images/194.png', 'mathvista_images/195.png', 'mathvista_images/197.png', 'mathvista_images/198.png', 'mathvista_images/199.png', 'mathvista_images/201.png', 'mathvista_images/202.png', 'mathvista_images/204.png', 'mathvista_images/205.png', 'mathvista_images/206.png', 'mathvista_images/208.png', 'mathvista_images/209.png', 'mathvista_images/210.png', 'mathvista_images/213.png', 'mathvista_images/214.png', 'mathvista_images/215.png', 'mathvista_images/216.png', 'mathvista_images/218.png', 'mathvista_images/221.png', 'mathvista_images/222.png', 'mathvista_images/223.png', 'mathvista_images/225.png', 'mathvista_images/226.png', 'mathvista_images/227.png', 'mathvista_images/228.png', 'mathvista_images/229.png', 'mathvista_images/230.png', 'mathvista_images/231.png', 'mathvista_images/233.png', 'mathvista_images/234.png', 'mathvista_images/235.png', 'mathvista_images/237.png', 'mathvista_images/238.png', 'mathvista_images/240.png', 'mathvista_images/241.png', 'mathvista_images/242.png', 'mathvista_images/243.png', 'mathvista_images/244.png', 'mathvista_images/247.png', 'mathvista_images/249.png', 'mathvista_images/253.png', 'mathvista_images/254.png', 'mathvista_images/255.png', 'mathvista_images/256.png', 'mathvista_images/258.png', 'mathvista_images/259.png', 'mathvista_images/263.png', 'mathvista_images/264.png', 'mathvista_images/265.png', 'mathvista_images/266.png', 'mathvista_images/267.png', 'mathvista_images/268.png', 'mathvista_images/270.png', 'mathvista_images/271.png', 'mathvista_images/273.png', 'mathvista_images/274.png', 'mathvista_images/275.png', 'mathvista_images/277.png', 'mathvista_images/278.png', 'mathvista_images/279.png', 'mathvista_images/280.png', 'mathvista_images/281.png', 'mathvista_images/282.png', 'mathvista_images/283.png', 'mathvista_images/285.png', 'mathvista_images/286.png', 'mathvista_images/288.png', 'mathvista_images/289.png', 'mathvista_images/290.png', 'mathvista_images/291.png', 'mathvista_images/292.png', 'mathvista_images/294.png', 'mathvista_images/295.png', 'mathvista_images/296.png', 'mathvista_images/298.png', 'mathvista_images/299.png', 'mathvista_images/300.png', 'mathvista_images/301.png', 'mathvista_images/302.png', 'mathvista_images/303.png', 'mathvista_images/304.png', 'mathvista_images/305.png', 'mathvista_images/307.png', 'mathvista_images/308.png', 'mathvista_images/309.png', 'mathvista_images/310.png', 'mathvista_images/311.png', 'mathvista_images/313.png', 'mathvista_images/314.png', 'mathvista_images/316.png', 'mathvista_images/317.png', 'mathvista_images/318.png', 'mathvista_images/319.png', 'mathvista_images/320.png', 'mathvista_images/321.png', 'mathvista_images/322.png', 'mathvista_images/324.png', 'mathvista_images/327.png', 'mathvista_images/328.png', 'mathvista_images/330.png', 'mathvista_images/331.png', 'mathvista_images/332.png', 'mathvista_images/333.png', 'mathvista_images/334.png', 'mathvista_images/335.png', 'mathvista_images/336.png', 'mathvista_images/337.png', 'mathvista_images/338.png', 'mathvista_images/339.png', 'mathvista_images/340.png', 'mathvista_images/341.png', 'mathvista_images/343.png', 'mathvista_images/345.png', 'mathvista_images/346.png', 'mathvista_images/347.png', 'mathvista_images/348.png', 'mathvista_images/349.png']\n"
     ]
    }
   ],
   "source": [
    "print(image_paths)"
   ]
  },
  {
   "cell_type": "code",
   "execution_count": 19,
   "metadata": {},
   "outputs": [],
   "source": [
    "import json\n",
    "\n",
    "training_dict = {\"prefixes\": prefixes, \"suffixes\": suffixes, \"images\": image_paths}\n",
    "json.dump(training_dict, open(\"training_v2_correct.json\", \"w\"))"
   ]
  },
  {
   "cell_type": "code",
   "execution_count": null,
   "metadata": {},
   "outputs": [],
   "source": []
  }
 ],
 "metadata": {
  "kernelspec": {
   "display_name": "Python 3",
   "language": "python",
   "name": "python3"
  },
  "language_info": {
   "codemirror_mode": {
    "name": "ipython",
    "version": 3
   },
   "file_extension": ".py",
   "mimetype": "text/x-python",
   "name": "python",
   "nbconvert_exporter": "python",
   "pygments_lexer": "ipython3",
   "version": "3.12.4"
  }
 },
 "nbformat": 4,
 "nbformat_minor": 2
}
